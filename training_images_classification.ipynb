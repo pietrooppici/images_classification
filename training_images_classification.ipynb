{
 "cells": [
  {
   "cell_type": "code",
   "execution_count": 1,
   "metadata": {
    "collapsed": true,
    "pycharm": {
     "name": "#%%\n"
    }
   },
   "outputs": [
    {
     "name": "stdout",
     "output_type": "stream",
     "text": [
      "Num GPUs Available:  1\n"
     ]
    }
   ],
   "source": [
    "import numpy as np\n",
    "import tensorflow as tf\n",
    "from tensorflow import keras\n",
    "from tensorflow.keras import layers\n",
    "from tensorflow.keras.models import Sequential\n",
    "from tensorflow.keras.layers import Activation, Dense, Flatten, BatchNormalization, Conv2D, MaxPool2D, Input,Dropout\n",
    "from tensorflow.keras.optimizers import Adam, SGD\n",
    "from tensorflow.keras.metrics import categorical_crossentropy\n",
    "from tensorflow.keras.preprocessing.image import ImageDataGenerator\n",
    "from sklearn.metrics import confusion_matrix\n",
    "from tensorflow.keras.optimizers import Adam\n",
    "from tensorflow.keras.models import Model\n",
    "from tensorflow.keras.preprocessing.image import ImageDataGenerator, array_to_img, img_to_array, load_img\n",
    "from tensorflow.keras.callbacks import EarlyStopping, ModelCheckpoint\n",
    "import itertools\n",
    "import os\n",
    "import shutil\n",
    "import random\n",
    "import splitfolders\n",
    "import warnings\n",
    "warnings.simplefilter(action='ignore', category=FutureWarning)\n",
    "\n",
    "# To plot pretty figures\n",
    "%matplotlib inline\n",
    "import matplotlib as mpl\n",
    "import matplotlib.pyplot as plt\n",
    "import matplotlib.colors as mcolors\n",
    "import matplotlib.gridspec as gridspec\n",
    "mpl.rc('axes', labelsize=14)\n",
    "mpl.rc('xtick', labelsize=12)\n",
    "mpl.rc('ytick', labelsize=12)\n",
    "\n",
    "# to make this notebook's output stable across runs\n",
    "np.random.seed(42)\n",
    "tf.random.set_seed(42)\n",
    "\n",
    "physical_devices = tf.config.experimental.list_physical_devices('GPU')\n",
    "print(\"Num GPUs Available: \", len(physical_devices))\n",
    "tf.config.experimental.set_memory_growth(physical_devices[0], True) #limit GPU memory\n",
    "\n",
    "from tensorflow.keras.applications.resnet50 import ResNet50\n",
    "from tensorflow.keras.applications.mobilenet import MobileNet\n",
    "from tensorflow.keras.applications.inception_v3 import InceptionV3\n",
    "preprocessing_R = tf.keras.applications.resnet.preprocess_input\n",
    "preprocessing_M = tf.keras.applications.mobilenet.preprocess_input\n",
    "preprocessing_I = tf.keras.applications.inception_v3.preprocess_input"
   ]
  },
  {
   "cell_type": "code",
   "execution_count": 2,
   "outputs": [],
   "source": [
    "img_size=224\n",
    "batch_size=32\n",
    "\n",
    "def functional_model():\n",
    "    inp=keras.Input((img_size,img_size,3), name='img_input')\n",
    "    x = preprocessing_M(inp)\n",
    "    x = base_model(x)\n",
    "    x = Flatten()(x)\n",
    "    x = Dense(512, activation = 'relu')(x)\n",
    "    predictions = Dense(2, activation= 'sigmoid')(x)\n",
    "    model = Model(inputs =inp, outputs = predictions, name='cnn')\n",
    "    return model\n",
    "\n",
    "def import_model(model):\n",
    "    base_model = model(weights='imagenet', include_top=False,input_shape=(img_size,img_size,3)) #, pooling='avg'\n",
    "    return base_model\n",
    "\n",
    "def plot_confusion_matrix(cm, classes,\n",
    "                          normalize=False,\n",
    "                          title='Confusion matrix',\n",
    "                          cmap=plt.cm.Blues):\n",
    "    \"\"\"\n",
    "    This function prints and plots the confusion matrix.\n",
    "    Normalization can be applied by setting `normalize=True`.\n",
    "    \"\"\"\n",
    "    plt.imshow(cm, interpolation='nearest', cmap=cmap)\n",
    "    plt.title(title, fontsize=20)\n",
    "    plt.colorbar()\n",
    "    tick_marks = np.arange(len(classes))\n",
    "    plt.xticks(tick_marks, classes, rotation=45)\n",
    "    plt.yticks(tick_marks, classes)\n",
    "\n",
    "\n",
    "    if normalize:\n",
    "        cm = cm.astype('float') / cm.sum(axis=1)[:, np.newaxis]\n",
    "        print(\"Normalized confusion matrix\")\n",
    "    else:\n",
    "        print('Confusion matrix, without normalization')\n",
    "\n",
    "    print(cm)\n",
    "\n",
    "    thresh = cm.max() / 2.\n",
    "    for i, j in itertools.product(range(cm.shape[0]), range(cm.shape[1])):\n",
    "        plt.text(j, i, cm[i, j],\n",
    "            horizontalalignment=\"center\",\n",
    "            color=\"white\" if cm[i, j] > thresh else \"black\")\n",
    "\n",
    "    plt.tight_layout()\n",
    "    plt.ylabel('True label', fontsize=20)\n",
    "    plt.xlabel('Predicted label', fontsize=20)\n",
    "    plt.rcParams[\"figure.figsize\"] = (10,10)\n",
    "\n"
   ],
   "metadata": {
    "collapsed": false,
    "pycharm": {
     "name": "#%%\n"
    }
   }
  },
  {
   "cell_type": "code",
   "execution_count": 3,
   "outputs": [
    {
     "name": "stdout",
     "output_type": "stream",
     "text": [
      "Model: \"cnn\"\n",
      "_________________________________________________________________\n",
      " Layer (type)                Output Shape              Param #   \n",
      "=================================================================\n",
      " img_input (InputLayer)      [(None, 224, 224, 3)]     0         \n",
      "                                                                 \n",
      " tf.math.truediv (TFOpLambda  (None, 224, 224, 3)      0         \n",
      " )                                                               \n",
      "                                                                 \n",
      " tf.math.subtract (TFOpLambd  (None, 224, 224, 3)      0         \n",
      " a)                                                              \n",
      "                                                                 \n",
      " mobilenet_1.00_224 (Functio  (None, 7, 7, 1024)       3228864   \n",
      " nal)                                                            \n",
      "                                                                 \n",
      " flatten (Flatten)           (None, 50176)             0         \n",
      "                                                                 \n",
      " dense (Dense)               (None, 512)               25690624  \n",
      "                                                                 \n",
      " dense_1 (Dense)             (None, 2)                 1026      \n",
      "                                                                 \n",
      "=================================================================\n",
      "Total params: 28,920,514\n",
      "Trainable params: 25,691,650\n",
      "Non-trainable params: 3,228,864\n",
      "_________________________________________________________________\n"
     ]
    }
   ],
   "source": [
    "'''immagini con background originale'''\n",
    "train_dir = \"../05_Data/Tomato/train\"\n",
    "valid_dir = \"../05_Data/Tomato/val\"\n",
    "test_dir = \"../05_Data/Tomato/test\"\n",
    "\n",
    "'''choose the 'base model': ResNet50, MobileNet, InceptionV3'''\n",
    "base_model=import_model(MobileNet)\n",
    "'''early stopping'''\n",
    "min_delta=0.001\n",
    "mode='max'\n",
    "patience = 10\n",
    "'''model.compile parameters'''\n",
    "lr=0.0001\n",
    "loss='categorical_crossentropy'\n",
    "metrics=['accuracy']\n",
    "filepath=r'C:\\Users\\Pietro\\OneDrive - Politecnico di Milano\\Desktop\\dati'\n",
    "'''model.fit parameters'''\n",
    "epochs=30\n",
    "verbose=2\n",
    "'''Let's visualize the model for transfer learning'''\n",
    "model=functional_model()\n",
    "base_model.trainable = False\n",
    "model.summary()"
   ],
   "metadata": {
    "collapsed": false,
    "pycharm": {
     "name": "#%%\n"
    }
   }
  },
  {
   "cell_type": "code",
   "execution_count": 4,
   "outputs": [
    {
     "name": "stdout",
     "output_type": "stream",
     "text": [
      "Found 339 files belonging to 2 classes.\n",
      "Found 72 files belonging to 2 classes.\n"
     ]
    }
   ],
   "source": [
    "train_ds = tf.keras.utils.image_dataset_from_directory(\n",
    "    train_dir,\n",
    "    labels='inferred',\n",
    "    label_mode='categorical', #'int' for sparse_categorical_cross_entropy\n",
    "    color_mode='rgb',\n",
    "    batch_size=batch_size,\n",
    "    image_size=(img_size,img_size),\n",
    "    shuffle=True,\n",
    "    seed=123,\n",
    ")\n",
    "\n",
    "valid_ds = tf.keras.utils.image_dataset_from_directory(\n",
    "    valid_dir,\n",
    "    labels='inferred',\n",
    "    label_mode='categorical',\n",
    "    color_mode='rgb',\n",
    "    batch_size=batch_size,\n",
    "    image_size=(img_size,img_size), #automaticamente ridimensiona le immagini\n",
    "    shuffle=True,\n",
    "    seed=123,\n",
    ")"
   ],
   "metadata": {
    "collapsed": false,
    "pycharm": {
     "name": "#%%\n"
    }
   }
  },
  {
   "cell_type": "markdown",
   "source": [
    "# TRANSFER LEARNING"
   ],
   "metadata": {
    "collapsed": false,
    "pycharm": {
     "name": "#%% md\n"
    }
   }
  },
  {
   "cell_type": "code",
   "execution_count": 6,
   "outputs": [
    {
     "name": "stdout",
     "output_type": "stream",
     "text": [
      "Epoch 1/30\n",
      "11/11 - 12s - loss: 1.5994 - accuracy: 0.7611 - val_loss: 0.1415 - val_accuracy: 0.9583 - 12s/epoch - 1s/step\n",
      "Epoch 2/30\n",
      "11/11 - 2s - loss: 0.0288 - accuracy: 0.9882 - val_loss: 0.0892 - val_accuracy: 0.9722 - 2s/epoch - 172ms/step\n",
      "Epoch 3/30\n",
      "11/11 - 2s - loss: 0.0118 - accuracy: 1.0000 - val_loss: 0.0792 - val_accuracy: 0.9722 - 2s/epoch - 168ms/step\n",
      "Epoch 4/30\n",
      "11/11 - 2s - loss: 0.0082 - accuracy: 1.0000 - val_loss: 0.0755 - val_accuracy: 0.9722 - 2s/epoch - 174ms/step\n",
      "Epoch 5/30\n",
      "11/11 - 2s - loss: 0.0065 - accuracy: 1.0000 - val_loss: 0.0734 - val_accuracy: 0.9722 - 2s/epoch - 173ms/step\n",
      "Epoch 6/30\n",
      "11/11 - 2s - loss: 0.0055 - accuracy: 1.0000 - val_loss: 0.0720 - val_accuracy: 0.9722 - 2s/epoch - 175ms/step\n",
      "Epoch 7/30\n",
      "11/11 - 2s - loss: 0.0047 - accuracy: 1.0000 - val_loss: 0.0710 - val_accuracy: 0.9722 - 2s/epoch - 174ms/step\n",
      "Epoch 8/30\n",
      "11/11 - 2s - loss: 0.0042 - accuracy: 1.0000 - val_loss: 0.0702 - val_accuracy: 0.9722 - 2s/epoch - 170ms/step\n",
      "Epoch 9/30\n",
      "11/11 - 2s - loss: 0.0038 - accuracy: 1.0000 - val_loss: 0.0695 - val_accuracy: 0.9722 - 2s/epoch - 188ms/step\n",
      "Epoch 10/30\n",
      "11/11 - 2s - loss: 0.0034 - accuracy: 1.0000 - val_loss: 0.0689 - val_accuracy: 0.9722 - 2s/epoch - 178ms/step\n",
      "Epoch 11/30\n",
      "11/11 - 2s - loss: 0.0031 - accuracy: 1.0000 - val_loss: 0.0684 - val_accuracy: 0.9722 - 2s/epoch - 175ms/step\n",
      "Epoch 12/30\n",
      "11/11 - 2s - loss: 0.0029 - accuracy: 1.0000 - val_loss: 0.0680 - val_accuracy: 0.9722 - 2s/epoch - 173ms/step\n"
     ]
    }
   ],
   "source": [
    "AUTOTUNE = tf.data.AUTOTUNE\n",
    "\n",
    "train_ds = train_ds.cache().prefetch(buffer_size=AUTOTUNE)\n",
    "val_ds = valid_ds.cache().prefetch(buffer_size=AUTOTUNE)\n",
    "\n",
    "\n",
    "early_stopping = [EarlyStopping(monitor='val_accuracy',\n",
    "                              patience=patience,\n",
    "                              min_delta=min_delta,\n",
    "                              mode=mode)]#,\n",
    "# '''ModelCheckpoint(filepath=r\"C:\\Users\\Pietro\\OneDrive - Politecnico di Milano\\Desktop\\Tesi\\modelli\\inception\", monitor='val_accuracy', save_best_only=True)]'''\n",
    "model.compile(optimizer=SGD(learning_rate=0.001, momentum=0.09),\n",
    "              loss=loss,\n",
    "              metrics=metrics)\n",
    "history = model.fit(x=train_ds,\n",
    "                    validation_data=valid_ds,\n",
    "                    epochs=epochs,\n",
    "                    verbose=verbose,\n",
    "                    callbacks=early_stopping)"
   ],
   "metadata": {
    "collapsed": false,
    "pycharm": {
     "name": "#%%\n"
    }
   }
  },
  {
   "cell_type": "code",
   "execution_count": 8,
   "outputs": [
    {
     "data": {
      "text/plain": "<Figure size 720x720 with 2 Axes>",
      "image/png": "[encoded data removed]"
     },
     "metadata": {
      "needs_background": "light"
     },
     "output_type": "display_data"
    }
   ],
   "source": [
    "plt.subplot(2,1,1)\n",
    "plt.plot(history.history['accuracy'])\n",
    "plt.plot(history.history['val_accuracy'])\n",
    "plt.title('Transfer Learning', fontsize=20)\n",
    "plt.ylabel('Accuracy')\n",
    "plt.legend(['training accuracy', 'validation accuracy'], loc='lower right')\n",
    "plt.grid(True)\n",
    "\n",
    "plt.subplot(2,1,2)\n",
    "plt.plot(history.history['loss'])\n",
    "plt.plot(history.history['val_loss'])\n",
    "plt.ylabel('Loss')\n",
    "plt.xlabel('Epochs')\n",
    "plt.legend(['training loss', 'validation loss'], loc='upper right')\n",
    "plt.rcParams[\"figure.figsize\"] = (10,10)\n",
    "plt.tight_layout()\n",
    "plt.grid(True)\n",
    "plt.savefig('../08_Images/mobilenet_transfer_learning')\n",
    "plt.show()"
   ],
   "metadata": {
    "collapsed": false,
    "pycharm": {
     "name": "#%%\n"
    }
   }
  },
  {
   "cell_type": "markdown",
   "source": [
    "# FINE TUNING\n",
    "col mio computer è possibile solo per mobilenet"
   ],
   "metadata": {
    "collapsed": false,
    "pycharm": {
     "name": "#%% md\n"
    }
   }
  },
  {
   "cell_type": "code",
   "execution_count": 9,
   "outputs": [
    {
     "name": "stdout",
     "output_type": "stream",
     "text": [
      "Model: \"cnn\"\n",
      "_________________________________________________________________\n",
      " Layer (type)                Output Shape              Param #   \n",
      "=================================================================\n",
      " img_input (InputLayer)      [(None, 224, 224, 3)]     0         \n",
      "                                                                 \n",
      " tf.math.truediv (TFOpLambda  (None, 224, 224, 3)      0         \n",
      " )                                                               \n",
      "                                                                 \n",
      " tf.math.subtract (TFOpLambd  (None, 224, 224, 3)      0         \n",
      " a)                                                              \n",
      "                                                                 \n",
      " mobilenet_1.00_224 (Functio  (None, 7, 7, 1024)       3228864   \n",
      " nal)                                                            \n",
      "                                                                 \n",
      " flatten (Flatten)           (None, 50176)             0         \n",
      "                                                                 \n",
      " dense (Dense)               (None, 512)               25690624  \n",
      "                                                                 \n",
      " dense_1 (Dense)             (None, 2)                 1026      \n",
      "                                                                 \n",
      "=================================================================\n",
      "Total params: 28,920,514\n",
      "Trainable params: 28,898,626\n",
      "Non-trainable params: 21,888\n",
      "_________________________________________________________________\n"
     ]
    }
   ],
   "source": [
    "base_model.trainable=True\n",
    "model.summary()"
   ],
   "metadata": {
    "collapsed": false,
    "pycharm": {
     "name": "#%%\n"
    }
   }
  },
  {
   "cell_type": "code",
   "execution_count": 10,
   "outputs": [
    {
     "name": "stdout",
     "output_type": "stream",
     "text": [
      "Epoch 1/30\n",
      "INFO:tensorflow:Assets written to: C:\\Users\\Pietro\\OneDrive - Politecnico di Milano\\Desktop\\Tesi\\modelli\\mobilenet\\assets\n",
      "11/11 - 16s - loss: 0.1708 - accuracy: 0.9145 - val_loss: 0.8752 - val_accuracy: 0.8056 - 16s/epoch - 1s/step\n",
      "Epoch 2/30\n",
      "INFO:tensorflow:Assets written to: C:\\Users\\Pietro\\OneDrive - Politecnico di Milano\\Desktop\\Tesi\\modelli\\mobilenet\\assets\n",
      "11/11 - 13s - loss: 0.0407 - accuracy: 0.9823 - val_loss: 0.4379 - val_accuracy: 0.9306 - 13s/epoch - 1s/step\n",
      "Epoch 3/30\n",
      "11/11 - 5s - loss: 0.0098 - accuracy: 0.9971 - val_loss: 0.5087 - val_accuracy: 0.9306 - 5s/epoch - 431ms/step\n",
      "Epoch 4/30\n",
      "INFO:tensorflow:Assets written to: C:\\Users\\Pietro\\OneDrive - Politecnico di Milano\\Desktop\\Tesi\\modelli\\mobilenet\\assets\n",
      "11/11 - 12s - loss: 0.0014 - accuracy: 1.0000 - val_loss: 0.3297 - val_accuracy: 0.9583 - 12s/epoch - 1s/step\n",
      "Epoch 5/30\n",
      "INFO:tensorflow:Assets written to: C:\\Users\\Pietro\\OneDrive - Politecnico di Milano\\Desktop\\Tesi\\modelli\\mobilenet\\assets\n",
      "11/11 - 13s - loss: 3.0445e-04 - accuracy: 1.0000 - val_loss: 0.3067 - val_accuracy: 0.9722 - 13s/epoch - 1s/step\n",
      "Epoch 6/30\n",
      "11/11 - 5s - loss: 1.2997e-05 - accuracy: 1.0000 - val_loss: 0.2787 - val_accuracy: 0.9722 - 5s/epoch - 444ms/step\n",
      "Epoch 7/30\n",
      "11/11 - 4s - loss: 8.0260e-06 - accuracy: 1.0000 - val_loss: 0.2490 - val_accuracy: 0.9722 - 4s/epoch - 405ms/step\n",
      "Epoch 8/30\n",
      "11/11 - 5s - loss: 6.5875e-06 - accuracy: 1.0000 - val_loss: 0.2141 - val_accuracy: 0.9722 - 5s/epoch - 409ms/step\n",
      "Epoch 9/30\n",
      "11/11 - 5s - loss: 5.8880e-06 - accuracy: 1.0000 - val_loss: 0.1833 - val_accuracy: 0.9722 - 5s/epoch - 411ms/step\n",
      "Epoch 10/30\n",
      "11/11 - 5s - loss: 5.4320e-06 - accuracy: 1.0000 - val_loss: 0.1610 - val_accuracy: 0.9722 - 5s/epoch - 416ms/step\n",
      "Epoch 11/30\n",
      "11/11 - 5s - loss: 5.0804e-06 - accuracy: 1.0000 - val_loss: 0.1394 - val_accuracy: 0.9722 - 5s/epoch - 414ms/step\n",
      "Epoch 12/30\n",
      "11/11 - 5s - loss: 4.7841e-06 - accuracy: 1.0000 - val_loss: 0.1211 - val_accuracy: 0.9722 - 5s/epoch - 410ms/step\n",
      "Epoch 13/30\n",
      "11/11 - 5s - loss: 4.5292e-06 - accuracy: 1.0000 - val_loss: 0.1031 - val_accuracy: 0.9722 - 5s/epoch - 419ms/step\n",
      "Epoch 14/30\n",
      "11/11 - 5s - loss: 4.3035e-06 - accuracy: 1.0000 - val_loss: 0.0840 - val_accuracy: 0.9722 - 5s/epoch - 412ms/step\n",
      "Epoch 15/30\n",
      "11/11 - 5s - loss: 4.1013e-06 - accuracy: 1.0000 - val_loss: 0.0664 - val_accuracy: 0.9722 - 5s/epoch - 415ms/step\n"
     ]
    }
   ],
   "source": [
    "es = [EarlyStopping(monitor='val_accuracy',\n",
    "                              patience=patience,\n",
    "                              min_delta=min_delta,\n",
    "                              mode=mode),\n",
    "                 ModelCheckpoint(filepath=r\"C:\\Users\\Pietro\\OneDrive - Politecnico di Milano\\Desktop\\Tesi\\modelli\\mobilenet\", monitor='val_accuracy', save_best_only=True)]\n",
    "\n",
    "model.compile(optimizer=SGD(learning_rate=0.001, momentum=0.9),\n",
    "              loss=loss,\n",
    "              metrics=metrics)\n",
    "\n",
    "history = model.fit(x=train_ds,\n",
    "                    validation_data=valid_ds,\n",
    "                    epochs=epochs,\n",
    "                    verbose=verbose,\n",
    "                    callbacks=es)"
   ],
   "metadata": {
    "collapsed": false,
    "pycharm": {
     "name": "#%%\n"
    }
   }
  },
  {
   "cell_type": "code",
   "execution_count": 11,
   "outputs": [
    {
     "data": {
      "text/plain": "<Figure size 720x720 with 2 Axes>",
      "image/png": "[encoded data removed]"
     },
     "metadata": {
      "needs_background": "light"
     },
     "output_type": "display_data"
    }
   ],
   "source": [
    "plt.subplot(2,1,1)\n",
    "plt.plot(history.history['accuracy'])\n",
    "plt.plot(history.history['val_accuracy'])\n",
    "plt.title('Fine Tuning', fontsize=20)\n",
    "plt.ylabel('Accuracy')\n",
    "plt.legend(['training accuracy', 'validation accuracy'], loc='lower right')\n",
    "plt.grid(True)\n",
    "\n",
    "plt.subplot(2,1,2)\n",
    "plt.plot(history.history['loss'])\n",
    "plt.plot(history.history['val_loss'])\n",
    "plt.ylabel('Loss')\n",
    "plt.xlabel('Epochs')\n",
    "plt.legend(['training loss', 'validation loss'], loc='upper right')\n",
    "plt.rcParams[\"figure.figsize\"] = (10,10)\n",
    "plt.tight_layout()\n",
    "plt.grid(True)\n",
    "plt.savefig('../08_Images/mobilenet_fine_tuning')\n",
    "plt.show()"
   ],
   "metadata": {
    "collapsed": false,
    "pycharm": {
     "name": "#%%\n"
    }
   }
  },
  {
   "cell_type": "markdown",
   "source": [
    "# Make Predictions"
   ],
   "metadata": {
    "collapsed": false,
    "pycharm": {
     "name": "#%% md\n"
    }
   }
  },
  {
   "cell_type": "code",
   "execution_count": 12,
   "outputs": [
    {
     "name": "stdout",
     "output_type": "stream",
     "text": [
      "Found 75 files belonging to 2 classes.\n"
     ]
    }
   ],
   "source": [
    "'''import the trained model and the test's dataset'''\n",
    "trained_model = keras.models.load_model(r\"C:\\Users\\Pietro\\OneDrive - Politecnico di Milano\\Desktop\\Tesi\\modelli\\mobilenet\")\n",
    "test_ds = tf.keras.utils.image_dataset_from_directory(\n",
    "    test_dir,\n",
    "    labels='inferred',#'int' for sparse_categorical_cross_entropy\n",
    "    label_mode='categorical',\n",
    "    class_names=['BAD', 'GOOD'],\n",
    "    color_mode='rgb',\n",
    "    batch_size=batch_size,\n",
    "    image_size=(img_size,img_size),\n",
    "    shuffle=False,\n",
    "    seed=123,\n",
    ")"
   ],
   "metadata": {
    "collapsed": false,
    "pycharm": {
     "name": "#%%\n"
    }
   }
  },
  {
   "cell_type": "code",
   "execution_count": 13,
   "outputs": [
    {
     "name": "stdout",
     "output_type": "stream",
     "text": [
      "2.075610399246216\n",
      "0.027674805323282876 [s] for each image\n"
     ]
    }
   ],
   "source": [
    "import time\n",
    "start1=time.time()\n",
    "predictions = trained_model.predict(x=test_ds, steps=len(test_ds), verbose=0)\n",
    "end1=time.time()\n",
    "time_list1=end1-start1\n",
    "print(time_list1)\n",
    "print(str(time_list1/75) + ' [s] for each image')"
   ],
   "metadata": {
    "collapsed": false,
    "pycharm": {
     "name": "#%%\n"
    }
   }
  },
  {
   "cell_type": "code",
   "execution_count": 14,
   "outputs": [
    {
     "name": "stdout",
     "output_type": "stream",
     "text": [
      "[0 0 0 0 0 0 0 0 0 0 0 0 0 0 0 0 0 0 0 0 0 0 0 0 0 0 0 0 0 0 0 0 0 0 0 1 1\n",
      " 1 1 1 1 1 1 1 1 1 1 1 1 1 1 1 1 1 1 1 1 1 1 1 1 1 1 1 1 1 1 1 1 1 1 1 1 1\n",
      " 1]\n"
     ]
    },
    {
     "data": {
      "text/plain": "40"
     },
     "execution_count": 14,
     "metadata": {},
     "output_type": "execute_result"
    }
   ],
   "source": [
    "arr_1d=np.argmax(predictions,axis=1)\n",
    "print(arr_1d)\n",
    "np.count_nonzero(arr_1d)"
   ],
   "metadata": {
    "collapsed": false,
    "pycharm": {
     "name": "#%%\n"
    }
   }
  },
  {
   "cell_type": "code",
   "execution_count": 15,
   "outputs": [
    {
     "name": "stdout",
     "output_type": "stream",
     "text": [
      "3/3 [==============================] - 2s 205ms/step - loss: 0.0145 - accuracy: 1.0000\n"
     ]
    },
    {
     "data": {
      "text/plain": "[0.014457538723945618, 1.0]"
     },
     "execution_count": 15,
     "metadata": {},
     "output_type": "execute_result"
    }
   ],
   "source": [
    "trained_model.evaluate(test_ds)"
   ],
   "metadata": {
    "collapsed": false,
    "pycharm": {
     "name": "#%%\n"
    }
   }
  },
  {
   "cell_type": "code",
   "execution_count": 16,
   "outputs": [
    {
     "name": "stdout",
     "output_type": "stream",
     "text": [
      "tf.Tensor(\n",
      "[0 0 0 0 0 0 0 0 0 0 0 0 0 0 0 0 0 0 0 0 0 0 0 0 0 0 0 0 0 0 0 0 0 0 0 1 1\n",
      " 1 1 1 1 1 1 1 1 1 1 1 1 1 1 1 1 1 1 1 1 1 1 1 1 1 1 1 1 1 1 1 1 1 1 1 1 1\n",
      " 1], shape=(75,), dtype=int64)\n",
      "tf.Tensor(\n",
      "[0 0 0 0 0 0 0 0 0 0 0 0 0 0 0 0 0 0 0 0 0 0 0 0 0 0 0 0 0 0 0 0 0 0 0 1 1\n",
      " 1 1 1 1 1 1 1 1 1 1 1 1 1 1 1 1 1 1 1 1 1 1 1 1 1 1 1 1 1 1 1 1 1 1 1 1 1\n",
      " 1], shape=(75,), dtype=int64)\n",
      "75\n",
      "Confusion matrix, without normalization\n",
      "[[35  0]\n",
      " [ 0 40]]\n"
     ]
    },
    {
     "data": {
      "text/plain": "<Figure size 720x720 with 2 Axes>",
      "image/png": "[encoded data removed]"
     },
     "metadata": {
      "needs_background": "light"
     },
     "output_type": "display_data"
    }
   ],
   "source": [
    "y_true = []\n",
    "y_pred = []\n",
    "for x,y in test_ds:\n",
    "  y= tf.argmax(y,axis=1)\n",
    "  y_true.append(y)\n",
    "  y_pred.append(tf.argmax(model.predict(x),axis = 1))\n",
    "\n",
    "y_pred = tf.concat(y_pred, axis=0)\n",
    "y_true = tf.concat(y_true, axis=0)\n",
    "\n",
    "print(y_pred)\n",
    "print(y_true)\n",
    "print(len(y_true))\n",
    "# Confusion Matrix\n",
    "cm = confusion_matrix(y_true, y_pred)\n",
    "cm_plot_labels = ['Bad', 'Good']\n",
    "plot_confusion_matrix(cm=cm, classes=cm_plot_labels, title='Confusion Matrix')\n",
    "plt.tight_layout()\n",
    "plt.savefig('../08_Images/Confusion_Matrix_mobilenet')"
   ],
   "metadata": {
    "collapsed": false,
    "pycharm": {
     "name": "#%%\n"
    }
   }
  },
  {
   "cell_type": "code",
   "execution_count": null,
   "outputs": [],
   "source": [],
   "metadata": {
    "collapsed": false,
    "pycharm": {
     "name": "#%%\n"
    }
   }
  }
 ],
 "metadata": {
  "kernelspec": {
   "display_name": "Python 3",
   "language": "python",
   "name": "python3"
  },
  "language_info": {
   "codemirror_mode": {
    "name": "ipython",
    "version": 2
   },
   "file_extension": ".py",
   "mimetype": "text/x-python",
   "name": "python",
   "nbconvert_exporter": "python",
   "pygments_lexer": "ipython2",
   "version": "2.7.6"
  }
 },
 "nbformat": 4,
 "nbformat_minor": 0
}